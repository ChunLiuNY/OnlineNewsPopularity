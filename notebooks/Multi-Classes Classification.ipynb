{
 "cells": [
  {
   "cell_type": "code",
   "execution_count": 50,
   "metadata": {},
   "outputs": [],
   "source": [
    "import pandas as pd\n",
    "import numpy as np\n",
    "from scipy import stats\n",
    "from sklearn.linear_model import LinearRegression, Ridge, Lasso, LogisticRegression\n",
    "from sklearn.preprocessing import PolynomialFeatures, StandardScaler, MinMaxScaler\n",
    "from sklearn.neighbors import KNeighborsRegressor\n",
    "from sklearn.ensemble import RandomForestRegressor,RandomForestClassifier, GradientBoostingClassifier\n",
    "from sklearn.pipeline import Pipeline\n",
    "from sklearn.model_selection import train_test_split, KFold, ShuffleSplit, GridSearchCV\n",
    "from sklearn.metrics import mean_squared_error, accuracy_score, precision_score, recall_score, f1_score\n",
    "import random\n",
    "from collections import defaultdict\n",
    "from sklearn.dummy import DummyClassifier\n",
    "import sklearn.model_selection as cv\n",
    "\n",
    "from matplotlib import pyplot as plt\n",
    "%matplotlib inline\n",
    "plt.style.use('ggplot')\n",
    "font = {'size'   : 12}\n",
    "plt.rc('font', **font)"
   ]
  },
  {
   "cell_type": "markdown",
   "metadata": {},
   "source": [
    "### Classifier"
   ]
  },
  {
   "cell_type": "code",
   "execution_count": 34,
   "metadata": {},
   "outputs": [],
   "source": [
    "def get_data(path):\n",
    "    df = pd.read_csv(path)\n",
    "    df = df.iloc[:,2:]\n",
    "    return df\n",
    "\n",
    "def class_split(df, lower_bound, upper_bound):\n",
    "    df1 = df[(df['shares'] >= lower_bound) & (df['shares'] < upper_bound)]\n",
    "    df2 = df[~((df['shares'] >= lower_bound) & (df['shares'] < upper_bound))]\n",
    "    df2 = df2.sample(len(df1))\n",
    "    return pd.concat([df1, df2])\n",
    "\n",
    "def get_label(df, lower_bound, upper_bound):\n",
    "    df['label'] = df['shares'].map(lambda x: 1 if (x >=lower_bound) & (x <upper_bound) else 0)\n",
    "    return df\n",
    "\n",
    "def get_feature_target(df, train_cols):\n",
    "    X = df[train_cols]\n",
    "    y = df['label']\n",
    "    return X, y\n",
    "\n",
    "def feature_scaling(X):\n",
    "    scaler = MinMaxScaler()\n",
    "    X_scaled = scaler.fit_transform(X)\n",
    "    return X_scaled\n",
    "\n",
    "def model_eval(X_scaled, y, model):\n",
    "    kf = KFold(n_splits=5, shuffle=True)\n",
    "    score = []\n",
    "    for train_idx, test_idx in kf.split(X_scaled):\n",
    "        model.fit(X_scaled[train_idx], y.iloc[train_idx])\n",
    "        y_pred = model.predict(X_scaled[test_idx])\n",
    "        y_true = y.iloc[test_idx]\n",
    "        score.append(f1_score(y_true, y_pred))\n",
    "    return score\n",
    "\n",
    "def model_output(train_cols, lower_bound, upper_bound):\n",
    "    df = get_data('../data/train.csv')\n",
    "    df = class_split(df, lower_bound, upper_bound)\n",
    "    df = get_label(df, lower_bound, upper_bound)\n",
    "    X, y = get_feature_target(df, train_cols)\n",
    "    X_scaled = feature_scaling(X)\n",
    "    return df, X_scaled, y\n",
    "    \n",
    "def get_model_score(train_cols, lower_bound, upper_bound):\n",
    "    df, X_scaled, y = model_output(train_cols, lower_bound, upper_bound)\n",
    "    base_model = DummyClassifier(strategy=\"stratified\")\n",
    "    rf = RandomForestClassifier(n_estimators=200, max_depth=59)\n",
    "    lr = LogisticRegression(solver='sag')\n",
    "    gb = GradientBoostingClassifier(n_estimators=200,\n",
    "                                        max_depth=3, learning_rate=0.1, subsample=0.5,\n",
    "                                        random_state=154)\n",
    "    models = {'Baseline': base_model,\n",
    "              'Random Forest': rf,\n",
    "              'Logistics Regression': lr,\n",
    "              'Gradient Boosting': gb\n",
    "             }\n",
    "    res = {}\n",
    "    for k,v in models.items():\n",
    "        score = model_eval(X_scaled, y, v)\n",
    "        res[k] = np.average(score)\n",
    "    return res"
   ]
  },
  {
   "cell_type": "code",
   "execution_count": 38,
   "metadata": {},
   "outputs": [],
   "source": [
    "train_cols = ['timedelta', 'n_tokens_title', 'n_tokens_content',\n",
    "       'n_unique_tokens', 'n_non_stop_words', 'n_non_stop_unique_tokens',\n",
    "       'num_hrefs', 'num_self_hrefs', 'num_imgs', 'num_videos',\n",
    "       'average_token_length', 'num_keywords', 'data_channel_is_lifestyle',\n",
    "       'data_channel_is_entertainment', 'data_channel_is_bus',\n",
    "       'data_channel_is_socmed', 'data_channel_is_tech',\n",
    "       'data_channel_is_world', 'kw_min_min', 'kw_max_min', 'kw_avg_min',\n",
    "       'kw_min_max', 'kw_max_max', 'kw_avg_max', 'kw_min_avg', 'kw_max_avg',\n",
    "       'kw_avg_avg', 'self_reference_min_shares', 'self_reference_max_shares',\n",
    "       'self_reference_avg_sharess', 'weekday_is_monday', 'weekday_is_tuesday',\n",
    "       'weekday_is_wednesday', 'weekday_is_thursday', 'weekday_is_friday',\n",
    "       'weekday_is_saturday', 'weekday_is_sunday', 'is_weekend', 'LDA_00',\n",
    "       'LDA_01', 'LDA_02', 'LDA_03', 'LDA_04', 'global_subjectivity',\n",
    "       'global_sentiment_polarity', 'global_rate_positive_words',\n",
    "       'global_rate_negative_words', 'rate_positive_words',\n",
    "       'rate_negative_words', 'avg_positive_polarity', 'min_positive_polarity',\n",
    "       'max_positive_polarity', 'avg_negative_polarity',\n",
    "       'min_negative_polarity', 'max_negative_polarity', 'title_subjectivity',\n",
    "       'title_sentiment_polarity', 'abs_title_subjectivity',\n",
    "       'abs_title_sentiment_polarity']"
   ]
  },
  {
   "cell_type": "markdown",
   "metadata": {},
   "source": [
    "### Training Data"
   ]
  },
  {
   "cell_type": "code",
   "execution_count": 39,
   "metadata": {},
   "outputs": [
    {
     "data": {
      "text/plain": [
       "{'Baseline': 0.49807501626212014,\n",
       " 'Random Forest': 0.678830857984322,\n",
       " 'Logistics Regression': 0.6638570610548518,\n",
       " 'Gradient Boosting': 0.6835935625582779}"
      ]
     },
     "execution_count": 39,
     "metadata": {},
     "output_type": "execute_result"
    }
   ],
   "source": [
    "# not popular\n",
    "not_popular = get_model_score(train_cols, 0, 944)\n",
    "not_popular"
   ]
  },
  {
   "cell_type": "code",
   "execution_count": 40,
   "metadata": {},
   "outputs": [
    {
     "data": {
      "text/plain": [
       "{'Baseline': 0.4969702887191577,\n",
       " 'Random Forest': 0.5576787831276236,\n",
       " 'Logistics Regression': 0.56004555388926,\n",
       " 'Gradient Boosting': 0.5671260877132708}"
      ]
     },
     "execution_count": 40,
     "metadata": {},
     "output_type": "execute_result"
    }
   ],
   "source": [
    "# mediocre\n",
    "mediocre = get_model_score(train_cols, 945, 1400)\n",
    "mediocre"
   ]
  },
  {
   "cell_type": "code",
   "execution_count": 41,
   "metadata": {},
   "outputs": [
    {
     "data": {
      "text/plain": [
       "{'Baseline': 0.4996105894925017,\n",
       " 'Random Forest': 0.5897748509766378,\n",
       " 'Logistics Regression': 0.5754947201743696,\n",
       " 'Gradient Boosting': 0.5869565692137775}"
      ]
     },
     "execution_count": 41,
     "metadata": {},
     "output_type": "execute_result"
    }
   ],
   "source": [
    "# popular\n",
    "popular = get_model_score(train_cols, 1401, 2800)\n",
    "popular"
   ]
  },
  {
   "cell_type": "code",
   "execution_count": 42,
   "metadata": {},
   "outputs": [
    {
     "data": {
      "text/plain": [
       "{'Baseline': 0.49526081865669624,\n",
       " 'Random Forest': 0.6573162678792943,\n",
       " 'Logistics Regression': 0.6280910115466001,\n",
       " 'Gradient Boosting': 0.6533742248590668}"
      ]
     },
     "execution_count": 42,
     "metadata": {},
     "output_type": "execute_result"
    }
   ],
   "source": [
    "# super popular\n",
    "super_popular = get_model_score(train_cols, 2801, 843300)\n",
    "super_popular"
   ]
  },
  {
   "cell_type": "code",
   "execution_count": 43,
   "metadata": {},
   "outputs": [
    {
     "data": {
      "text/plain": [
       "0.49807501626212014"
      ]
     },
     "execution_count": 43,
     "metadata": {},
     "output_type": "execute_result"
    }
   ],
   "source": [
    "not_popular['Baseline']"
   ]
  },
  {
   "cell_type": "code",
   "execution_count": 66,
   "metadata": {},
   "outputs": [
    {
     "data": {
      "text/plain": [
       "Text(0.5, 1.0, 'Multi-Classes F1 Score')"
      ]
     },
     "execution_count": 66,
     "metadata": {},
     "output_type": "execute_result"
    },
    {
     "data": {
      "image/png": "[encoded data removed]",
      "text/plain": [
       "<Figure size 576x360 with 1 Axes>"
      ]
     },
     "metadata": {},
     "output_type": "display_data"
    }
   ],
   "source": [
    "fig, ax = plt.subplots(figsize=(8,5))\n",
    "lst = ['Random Forest', 'Logistics Regression', 'Gradient Boosting']\n",
    "x = ['not_popular','mediocre','popular','super_popular']\n",
    "for i in lst:\n",
    "    y = [not_popular[i], mediocre[i], popular[i], super_popular[i]]\n",
    "    ax.plot(x, y, label=i)\n",
    "ax.legend(loc = \"upper right\", fontsize=10)\n",
    "plt.ylim([0.5, 0.75])\n",
    "ax.set_ylabel('Average F1 Score', fontsize=12)\n",
    "ax.set_title(\"Multi-Classes F1 Score\", fontsize=14)"
   ]
  },
  {
   "cell_type": "markdown",
   "metadata": {},
   "source": [
    "### Test Data"
   ]
  },
  {
   "cell_type": "code",
   "execution_count": null,
   "metadata": {},
   "outputs": [],
   "source": []
  }
 ],
 "metadata": {
  "kernelspec": {
   "display_name": "Python 3",
   "language": "python",
   "name": "python3"
  },
  "language_info": {
   "codemirror_mode": {
    "name": "ipython",
    "version": 3
   },
   "file_extension": ".py",
   "mimetype": "text/x-python",
   "name": "python",
   "nbconvert_exporter": "python",
   "pygments_lexer": "ipython3",
   "version": "3.7.9"
  }
 },
 "nbformat": 4,
 "nbformat_minor": 4
}
